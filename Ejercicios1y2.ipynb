{
 "cells": [
  {
   "cell_type": "code",
   "execution_count": 1,
   "metadata": {},
   "outputs": [
    {
     "name": "stdout",
     "output_type": "stream",
     "text": [
      "Ingresa tu sueldo900\n",
      "('Sueldo final: ', 1035.0)\n"
     ]
    }
   ],
   "source": [
    "#Ejercicio 1\n",
    "def main():\n",
    "    sueldo = int(input(\"Ingresa tu sueldo\"))\n",
    "    if sueldo > 1000:\n",
    "        importe = sueldo *.12\n",
    "        sueldototal = sueldo + importe\n",
    "    else:\n",
    "        importe = sueldo * .15\n",
    "        sueldototal = sueldo + importe\n",
    "    print(\"Sueldo final: \", + sueldototal)\n",
    "    \n",
    "if __name__ == \"__main__\":\n",
    "    main()"
   ]
  },
  {
   "cell_type": "code",
   "execution_count": null,
   "metadata": {},
   "outputs": [
    {
     "name": "stdout",
     "output_type": "stream",
     "text": [
      "Ingresa tu sueldo5\n",
      "Categorias: 1, 2, 3, 4, 5\n",
      "Ingresa una categoria5\n",
      "opcion invalida\n"
     ]
    }
   ],
   "source": [
    "#Ejercicio 2\n",
    "def main():\n",
    "    sueldo = int(input(\"Ingresa tu sueldo\"))\n",
    "    print(\"Categorias: 1, 2, 3, 4\")\n",
    "    categoria = int(input(\"Ingresa una categoria\"))\n",
    "    if categoria <= 0:\n",
    "        print(\"opncion invalida\")\n",
    "    elif categoria == 1:\n",
    "        importe = sueldo * .15\n",
    "        sueldototal= sueldo + importe\n",
    "    elif categoria == 2:\n",
    "        importe = sueldo * .10\n",
    "        sueldototal= sueldo + importe\n",
    "    elif categoria == 3:\n",
    "        importe = sueldo * .08\n",
    "        sueldototal= sueldo + importe\n",
    "    elif categoria == 4:\n",
    "        importe = sueldo * .07\n",
    "        sueldototal= sueldo + importe\n",
    "    else:\n",
    "        print(\"opcion invalida\")\n",
    "        main()\n",
    "    print(\"Tu sueldo final es: \", + sueldototal)\n",
    "        \n",
    "if __name__ == \"__main__\":\n",
    "    main()"
   ]
  },
  {
   "cell_type": "code",
   "execution_count": null,
   "metadata": {},
   "outputs": [],
   "source": []
  }
 ],
 "metadata": {
  "kernelspec": {
   "display_name": "Python 2",
   "language": "python",
   "name": "python2"
  },
  "language_info": {
   "codemirror_mode": {
    "name": "ipython",
    "version": 2
   },
   "file_extension": ".py",
   "mimetype": "text/x-python",
   "name": "python",
   "nbconvert_exporter": "python",
   "pygments_lexer": "ipython2",
   "version": "2.7.16"
  }
 },
 "nbformat": 4,
 "nbformat_minor": 2
}
